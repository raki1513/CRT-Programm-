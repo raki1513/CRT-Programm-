{
 "cells": [
  {
   "cell_type": "code",
   "execution_count": null,
   "metadata": {},
   "outputs": [],
   "source": [
    "import math\n",
    "x=math.sqrt(25)\n",
    "print(x)"
   ]
  },
  {
   "cell_type": "code",
   "execution_count": null,
   "metadata": {},
   "outputs": [],
   "source": [
    "import cmath\n",
    "cmath.sqrt(-16)"
   ]
  },
  {
   "cell_type": "code",
   "execution_count": null,
   "metadata": {},
   "outputs": [],
   "source": [
    "import cmath\n",
    "cmath.sqrt(16)"
   ]
  },
  {
   "cell_type": "code",
   "execution_count": null,
   "metadata": {},
   "outputs": [],
   "source": [
    "x=list((1,4,3,5))\n",
    "print(x)"
   ]
  },
  {
   "cell_type": "markdown",
   "metadata": {},
   "source": [
    "For single item there is no need to mention double peranthesis\n",
    "ex:"
   ]
  },
  {
   "cell_type": "code",
   "execution_count": null,
   "metadata": {},
   "outputs": [],
   "source": [
    "L=list(\"java\")\n",
    "print(L)"
   ]
  },
  {
   "cell_type": "markdown",
   "metadata": {},
   "source": [
    "As set doesnt allow any duplicates it doesnt print smae number multiple times and it doesnt follow any order\n",
    "Ex:"
   ]
  },
  {
   "cell_type": "code",
   "execution_count": null,
   "metadata": {},
   "outputs": [],
   "source": [
    "L=list({10,20,30,40,10,30})\n",
    "print(L)"
   ]
  },
  {
   "cell_type": "markdown",
   "metadata": {},
   "source": [
    "Tuple Data type:\n",
    "1. Built in immutable data sequence\n",
    "2. It allows Different types of data\n",
    "3. It allows Duplicates\n",
    "Creation:\n",
    "   1.()\n",
    "   2.tuple()\n",
    "   3.tuple(iterable)\n",
    "\n",
    "Ex:"
   ]
  },
  {
   "cell_type": "code",
   "execution_count": null,
   "metadata": {},
   "outputs": [],
   "source": [
    "#creating an Empty Tuple\n",
    "t=()\n",
    "print(t)\n",
    "#another way\n",
    "a=tuple()\n",
    "print(a)\n",
    "#another way!!!\n"
   ]
  },
  {
   "cell_type": "markdown",
   "metadata": {},
   "source": [
    "When a single item is given in tuple it is treated as the data type of respective data provided, and when you want to create a singletone tuple a bracket(, ) is mentioned at the end of the element "
   ]
  },
  {
   "cell_type": "code",
   "execution_count": null,
   "metadata": {},
   "outputs": [],
   "source": [
    "#singletone tuple\n",
    "x=10,\n",
    "print(type(x))\n",
    "print(\"*************\")\n",
    "a=[10]\n",
    "print(type(a))"
   ]
  },
  {
   "cell_type": "markdown",
   "metadata": {},
   "source": [
    "As we know tuples are immutable data structure we cannont change the values once assigned in a tuple\n",
    "Ex:"
   ]
  },
  {
   "cell_type": "code",
   "execution_count": null,
   "metadata": {},
   "outputs": [],
   "source": [
    "t=(100,200,400)\n",
    "t[0]=10\n",
    "print(t)"
   ]
  },
  {
   "cell_type": "markdown",
   "metadata": {},
   "source": [
    "Unpacking also called as Object Destructuring can be reffered as the way of destructuring a data structure and assigning to different variables"
   ]
  },
  {
   "cell_type": "code",
   "execution_count": null,
   "metadata": {},
   "outputs": [],
   "source": [
    "a=[10,20,30]\n",
    "c,d,e=a\n",
    "print(c,d,e)"
   ]
  },
  {
   "cell_type": "markdown",
   "metadata": {},
   "source": [
    "Range Data Type:\n",
    "An object that produces sequence of integers from start and stop by step is know as range data type\n",
    "\n",
    "It is an Immutable Sequence\n",
    "Ex:\n"
   ]
  },
  {
   "cell_type": "code",
   "execution_count": null,
   "metadata": {},
   "outputs": [],
   "source": [
    "a= range(1,10)\n",
    "print(list(a))"
   ]
  },
  {
   "cell_type": "markdown",
   "metadata": {},
   "source": [
    "Set: Set is an unordered collection of data. It doesnt allow duplicates\n",
    " \n",
    "It can be created by using the following ways\n",
    "    1.{}\n",
    "    2.set()\n",
    "    3.set(iterable)"
   ]
  },
  {
   "cell_type": "code",
   "execution_count": null,
   "metadata": {},
   "outputs": [],
   "source": [
    "#creating an empty set\n",
    "s=set()\n",
    "print(type(s))\n",
    "print(s)"
   ]
  },
  {
   "cell_type": "code",
   "execution_count": null,
   "metadata": {},
   "outputs": [],
   "source": [
    "a = [1,2,3,1,2,3]\n",
    "b= list(set(a))\n",
    "print(b)"
   ]
  },
  {
   "cell_type": "markdown",
   "metadata": {},
   "source": [
    "Frozen Set: An ordered collection of unique elements. It is a immutable type.\n",
    "            Creation:\n",
    "            by using:\n",
    "               1. frozenset()\n",
    "               2.frozenset(iterable)"
   ]
  },
  {
   "cell_type": "code",
   "execution_count": null,
   "metadata": {},
   "outputs": [],
   "source": [
    "s=frozenset(\"Gandu\")\n",
    "print(s)"
   ]
  },
  {
   "cell_type": "markdown",
   "metadata": {},
   "source": [
    "# Dictionary Data Type: \n",
    "If we want to represent a group of values as \"Key-Value\" pairs then we should go for dict data type\n",
    "Creation: \n",
    "   1. By using {}--> {key:value,key:value}\n",
    "   2. By using dict()\n",
    "   3. By using dict(iterable)\n",
    "   4. By using dict(**kwargs)\n",
    "   5. By using(mapping)\n"
   ]
  },
  {
   "cell_type": "code",
   "execution_count": null,
   "metadata": {},
   "outputs": [],
   "source": []
  }
 ],
 "metadata": {
  "kernelspec": {
   "display_name": "Python 3.10.8 64-bit (microsoft store)",
   "language": "python",
   "name": "python3"
  },
  "language_info": {
   "codemirror_mode": {
    "name": "ipython",
    "version": 3
   },
   "file_extension": ".py",
   "mimetype": "text/x-python",
   "name": "python",
   "nbconvert_exporter": "python",
   "pygments_lexer": "ipython3",
   "version": "3.10.8"
  },
  "orig_nbformat": 4,
  "vscode": {
   "interpreter": {
    "hash": "536948d6a90566740ba226965dd6e7846d9d519e39c06826e6c0e2e8af33e912"
   }
  }
 },
 "nbformat": 4,
 "nbformat_minor": 2
}
